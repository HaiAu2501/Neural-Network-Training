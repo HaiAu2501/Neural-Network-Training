{
 "cells": [
  {
   "cell_type": "markdown",
   "metadata": {
    "id": "uZk_g-j1JnW7"
   },
   "source": [
    "# Thiết kế mạng nơ-ron tích chập xử lý hình ảnh chữ số viết tay"
   ]
  },
  {
   "cell_type": "markdown",
   "metadata": {
    "id": "AOSvCY1GTdiW"
   },
   "source": [
    "**Mạng nơ-ron tích chập** (*Convolutional Neural Network - CNN*) là một loại mạng nơ-ron sâu, thường được sử dụng trong xử lý hình ảnh và video.\n",
    "\n",
    "Cấu trúc cơ bản của CNN bao gồm ba lớp chính:\n",
    "\n",
    "1.   *Lớp Tích chập (Convolutional Layer)*\n",
    "\n",
    "* **Bộ lọc** (*Filter* hoặc *Kernel*): Một ma trận nhỏ được sử dụng để trích xuất đặc trưng từ hình ảnh thông qua việc \"quét\" qua hình ảnh.\n",
    "\n",
    "* **Tích chập:** Phép toán tích chập được thực hiện giữa bộ lọc và một vùng nhỏ của hình ảnh để tạo ra một bản đồ đặc trưng.\n",
    "\n",
    "* **Bản đồ đặc trưng** (*Feature Map*): Kết quả của phép tích chập, mô tả thông tin về các đặc trưng được bộ lọc phát hiện.\n",
    "\n",
    "\n",
    "2.   *Lớp Gộp (Pooling Layer)*\n",
    "\n",
    "* Gộp (Pooling): Phép toán giảm kích thước không gian của bản đồ đặc trưng, giữ lại thông tin quan trọng và loại bỏ thông tin không cần thiết.\n",
    "\n",
    "* Max Pooling: Một phương pháp phổ biến của pooling, chọn giá trị lớn nhất từ một vùng nhỏ của bản đồ đặc trưng.\n",
    "\n",
    "3. *Lớp Kết nối Đầy đủ (Fully Connected Layer)*\n",
    "\n",
    "* Nơ-ron: Các đơn vị tính toán cơ bản của mạng.\n",
    "\n",
    "* Hàm kích hoạt: Hàm chuyển đổi đầu ra của mỗi nơ-ron, ví dụ như hàm ReLU hoặc Sigmoid.\n",
    "\n",
    "* Lớp đầu ra: Lớp cuối cùng của mạng, thường sử dụng hàm softmax để phân loại.\n",
    "\n",
    "Quy trình làm việc cơ bản của CNN trong bài toán phân loại hình ảnh:\n",
    "\n",
    "> **Bước 1.** *Tiền xử lý:* Hình ảnh đầu vào thường được chuẩn hóa về kích thước và giá trị pixel.\n",
    "\n",
    "> **Bước 2.** *Tích chập và Gộp:* Sử dụng các bộ lọc để trích xuất đặc trưng và giảm kích thước không gian của hình ảnh.\n",
    "\n",
    "> **Bước 3.** *Học đặc trưng:* Tự động học các đặc trưng từ hình ảnh thông qua các lớp tích chập và gộp.\n",
    "\n",
    "> **Bước 4.** *Phân loại:* Sử dụng các đặc trưng đã học để phân loại hình ảnh vào các lớp tương ứng.\n",
    "\n",
    "> **Bước 5.** *Đánh giá và Tối ưu:* Sử dụng hàm mất mát để đánh giá hiệu suất của mô hình và thuật toán tối ưu (ví dụ: Gradient Descent) để cập nhật trọng số và cải thiện mô hình.\n",
    "\n",
    "CNNs đã được chứng minh là hiệu quả đặc biệt trong nhiều ứng dụng như nhận dạng hình ảnh, phân loại video, và cả trong y học để phân loại các hình ảnh y tế."
   ]
  },
  {
   "cell_type": "markdown",
   "metadata": {
    "id": "zP3_IvsMKMay"
   },
   "source": [
    "# Mục mới"
   ]
  }
 ],
 "metadata": {
  "colab": {
   "provenance": [],
   "toc_visible": true
  },
  "kernelspec": {
   "display_name": "Python 3",
   "name": "python3"
  }
 },
 "nbformat": 4,
 "nbformat_minor": 0
}
