{
 "cells": [
  {
   "cell_type": "markdown",
   "id": "be3bc2c1",
   "metadata": {},
   "source": [
    "# Tương hỗ Entropy"
   ]
  },
  {
   "cell_type": "markdown",
   "id": "7a720221",
   "metadata": {},
   "source": [
    "Tương hỗ Entropy (Cross Entropy) là một hàm mất mát (loss function) thường được sử dụng trong bài toán phân loại của học máy và học sâu. Cross Entropy đo lường sự khác biệt giữa hai phân phối xác suất rời rạc: phân phối xác suất được dự đoán từ mô hình và phân phối xác suất thực tế của nhãn.\n",
    "\n",
    "Biểu diễn toán học của hàm mất mát Cross Entropy $\\mathcal{H}(y,a)$ cho một dữ liệu đơn lẻ trong trường hợp phân loại nhị phân được định nghĩa như sau:\n",
    "\\begin{align*}\n",
    "\\mathcal{H}(y,a)=-\\left(y\\ln(a)+(1-y)\\ln(1-a)\\right)\n",
    "\\end{align*}\n",
    "\n",
    "Trong công thức trên:\n",
    "* $y$ là nhãn thực tế, nhận giá trị 0 hoặc 1 (nhị phân).\n",
    "* $a$ là nhãn dự đoán, nhận giá trị trong khoảng $(0,1)$ và là xác suất rơi vào nhãn 1.\n",
    "\n",
    "Nếu $y=1$ mà $a \\cong 0$ thì $\\mathcal{H}(y,a)$ nhận giá trị dương lớn. Còn nếu $y=0$ mà $a \\cong 1$ cũng vậy. Tóm lại, hàm Cross Entropy luôn dương và trừng phạt những giá trị dự đoán sai nặng nề hơn sai số bình phương. \n",
    "\n",
    "Hàm mất mát trên toàn bộ tập dữ liệu có $n$ quan sát là:\n",
    "\\begin{align*}\n",
    "\\mathcal{H}(Y,A)=-\\frac{1}{n} \\sum_{i=1}^n \\left(y_i\\ln(a_i)+(1-y_i)\\ln(1-a_i)\\right)\n",
    "\\end{align*}\n",
    "\n",
    "Ta sẽ cực tiểu hóa hàm số này, trong đó biểu diễn $Z = W^TX+b$ và $A=f(Z)$. Ta có thể coi $\\mathcal{H}$ như một hàm phụ thuộc ba biến $\\mathcal{H}(Y,A)=\\mathcal{H}(W;X,Y)$ đạo hàm riêng của hàm mất mát tại chỉ một điểm dữ liệu $(x_i,y_i)$ là:\n",
    "\\begin{align*}\n",
    "\\frac{\\partial \\mathcal{H}(W;x_i,y_i)}{\\partial W} = \\frac{\\partial \\mathcal{H}(W;x_i,y_i)}{\\partial a_i} \\frac{\\partial a_i}{\\partial W} = - \\left(\\frac{y_i}{a_i}-\\frac{1-y_i}{1-a_i}\\right)\\frac{\\partial a_i}{\\partial W} = \\frac{a_i-y_i}{a_i(1-a_i)}\\frac{\\partial a_i}{\\partial W}\n",
    "\\end{align*}\n",
    "\n",
    "Chọn $f$ là hàm sigmoid. Khi đó ta có:\n",
    "\\begin{align*}\n",
    "\\frac{\\partial a_i}{\\partial W} = \\frac{\\partial f(z_i)}{\\partial W} = \\frac{\\partial f(z_i)}{\\partial z_i}\\frac{\\partial z_i}{\\partial W} = \\frac{e^{-z_i}}{(1+e^{-z_i})^2}x_i = a_i(1-a_i)x_i\n",
    "\\end{align*}\n",
    "\n",
    "Do đó, ta thu được:\n",
    "\\begin{align*}\n",
    "\\frac{\\partial \\mathcal{H}(W;x_i,y_i)}{\\partial W} = (a_i-y_i)x_i\n",
    "\\end{align*}\n",
    "\n",
    "Trên toàn bộ tập dữ liệu thì:\n",
    "\\begin{align*}\n",
    "\\frac{\\partial \\mathcal{H}(W;X,Y)}{\\partial W} = \\frac{1}{n}(A-Y)X\n",
    "\\end{align*}"
   ]
  },
  {
   "cell_type": "code",
   "execution_count": 1,
   "id": "a1dc56d7",
   "metadata": {},
   "outputs": [],
   "source": [
    "import numpy as np\n",
    "import pandas as pd\n",
    "import matplotlib.pyplot as plt\n",
    "from sklearn.model_selection import train_test_split\n",
    "from sklearn.preprocessing import StandardScaler"
   ]
  },
  {
   "cell_type": "code",
   "execution_count": 2,
   "id": "e641c509",
   "metadata": {},
   "outputs": [],
   "source": [
    "# Định nghĩa hàm sigmoid\n",
    "def sigmoid(z):\n",
    "    return 1 / (1 + np.exp(-z))\n",
    "\n",
    "# Định nghĩa hàm chi phí (hay hàm mất mát) dựa trên cross - entropy\n",
    "def compute_cost(Y, Y_hat):\n",
    "    m = Y.shape[1]\n",
    "    return -1/m * np.sum(Y * np.log(Y_hat) + (1 - Y) * np.log(1 - Y_hat))"
   ]
  },
  {
   "cell_type": "markdown",
   "id": "82e27611",
   "metadata": {},
   "source": [
    "# Hồi quy Logistic với Giải thuật Lan truyền ngược"
   ]
  },
  {
   "cell_type": "markdown",
   "id": "95451148",
   "metadata": {},
   "source": [
    "Trong thuật toán này, sử dụng cập nhật theo Gradient Descent:\n",
    "\\begin{align*}\n",
    "E &= A-Y\\\\\n",
    "dW &= \\frac{1}{n} \\cdot E \\cdot X^T\\\\\n",
    "db &= \\frac{1}{n} \\cdot \\sum_{i=1}^n E\n",
    "\\end{align*}\n",
    "\n",
    "Và quy tắc cập nhật:\n",
    "\\begin{align*}\n",
    "W &= W - \\alpha \\cdot dW\\\\\n",
    "b &= b - \\alpha \\cdot db\n",
    "\\end{align*}\n",
    "\n",
    "Trong đó $\\alpha$ là tốc độ học (learning rate)."
   ]
  },
  {
   "cell_type": "markdown",
   "id": "999ef0ce",
   "metadata": {},
   "source": [
    "# Gradient Descent"
   ]
  },
  {
   "cell_type": "code",
   "execution_count": 3,
   "id": "de4bf534",
   "metadata": {},
   "outputs": [],
   "source": [
    "def logistic_regression_nn(X, Y, learning_rate, num_iterations):\n",
    "    m, n = X.shape  # m: số lượng đặc trưng, n: số lượng mẫu dữ liệu\n",
    "    \n",
    "    # Bước 1: Khởi tạo tham số\n",
    "    W = np.random.randn(1, m) * 0.01 \n",
    "    b = 0\n",
    "    costs = [] \n",
    "    accuracies = []  \n",
    "    \n",
    "    # Bước 2: Lặp qua từng epoch để cập nhật tham số\n",
    "    for i in range(num_iterations):\n",
    "        \n",
    "        # Bước 2.1: Lan truyền tiến để tính output và cost\n",
    "        Z = np.dot(W, X) + b  \n",
    "        A = sigmoid(Z)  \n",
    "        cost = compute_cost(Y, A)\n",
    "        costs.append(cost) \n",
    "        \n",
    "        # Bước 2.2: Lan truyền ngược để tính gradient\n",
    "        E = A - Y \n",
    "        dW = 1/n * np.dot(E, X.T) \n",
    "        db = 1/n * np.sum(E) \n",
    "        \n",
    "        # Bước 2.3: Cập nhật tham số\n",
    "        W -= learning_rate * dW  \n",
    "        b -= learning_rate * db  \n",
    "        \n",
    "        # Bước 2.4: Tính độ chính xác và lưu giữ giá trị\n",
    "        accuracy = np.mean((A > 0.5) == Y)  # Tính độ chính xác\n",
    "        accuracies.append(accuracy)  # Lưu giữ giá trị độ chính xác\n",
    "        \n",
    "        # In thông tin quá trình huấn luyện\n",
    "        if i % 100 == 0:\n",
    "            print(f\"Iteration {i}, Cost: {cost}, Accuracy: {accuracy}\")\n",
    "\n",
    "    return W, b, costs, accuracies"
   ]
  },
  {
   "cell_type": "code",
   "execution_count": 4,
   "id": "085dc4de",
   "metadata": {},
   "outputs": [],
   "source": [
    "# Đọc dữ liệu\n",
    "data = pd.read_csv(\"C:\\\\Users\\\\admin\\\\Downloads\\\\diabetes.csv\")\n",
    "X = data.drop('Outcome', axis=1).values\n",
    "y = data['Outcome'].values\n",
    "\n",
    "# Chia tập huấn luyện (80%) và tập kiểm tra (20%)\n",
    "X_train, X_test, y_train, y_test = train_test_split(X, y, test_size=0.2, random_state=42)\n",
    "\n",
    "# Chuẩn hóa và tiền xử lý dữ liệu, phép toán .T để lấy chuyển vị\n",
    "scaler = StandardScaler()\n",
    "X_train_scaled = scaler.fit_transform(X_train)\n",
    "X_test_scaled = scaler.transform(X_test)\n",
    "X_train_T = X_train_scaled.T\n",
    "y_train_T = y_train.reshape(1, y_train.shape[0])\n",
    "X_test_T = X_test_scaled.T\n",
    "y_test_T = y_test.reshape(1, y_test.shape[0])"
   ]
  },
  {
   "cell_type": "code",
   "execution_count": 5,
   "id": "c8cfd1d8",
   "metadata": {},
   "outputs": [
    {
     "name": "stdout",
     "output_type": "stream",
     "text": [
      "Iteration 0, Cost: 0.6919771038179324, Accuracy: 0.5635179153094463\n",
      "Iteration 100, Cost: 0.46786575008426196, Accuracy: 0.7703583061889251\n",
      "Iteration 200, Cost: 0.467835119935788, Accuracy: 0.7703583061889251\n",
      "Iteration 300, Cost: 0.4678350680134367, Accuracy: 0.7703583061889251\n",
      "Iteration 400, Cost: 0.4678350679031338, Accuracy: 0.7703583061889251\n",
      "Iteration 500, Cost: 0.46783506790287993, Accuracy: 0.7703583061889251\n",
      "Iteration 600, Cost: 0.4678350679028793, Accuracy: 0.7703583061889251\n",
      "Iteration 700, Cost: 0.4678350679028794, Accuracy: 0.7703583061889251\n",
      "Iteration 800, Cost: 0.4678350679028793, Accuracy: 0.7703583061889251\n",
      "Iteration 900, Cost: 0.4678350679028794, Accuracy: 0.7703583061889251\n"
     ]
    }
   ],
   "source": [
    "# Huấn luyện mô hình với tốc độ học 0.5 và số vòng lặp 1000\n",
    "W, b, costs, accuracies = logistic_regression_nn(X_train_T, y_train_T, learning_rate=0.5, num_iterations=1000)"
   ]
  },
  {
   "cell_type": "code",
   "execution_count": 6,
   "id": "1552d258",
   "metadata": {
    "scrolled": false
   },
   "outputs": [
    {
     "data": {
      "image/png": "[encoded data removed]",
      "text/plain": [
       "<Figure size 1200x500 with 2 Axes>"
      ]
     },
     "metadata": {},
     "output_type": "display_data"
    }
   ],
   "source": [
    "# Vẽ đồ thị chi phí và độ chính xác\n",
    "plt.figure(figsize=(12, 5))\n",
    "plt.subplot(1, 2, 1)\n",
    "plt.plot(costs)\n",
    "plt.title('Cost over iterations')\n",
    "plt.xlabel('Iterations')\n",
    "plt.ylabel('Cost')\n",
    "plt.subplot(1, 2, 2)\n",
    "plt.plot(accuracies)\n",
    "plt.title('Accuracy over iterations')\n",
    "plt.xlabel('Iterations')\n",
    "plt.ylabel('Accuracy')\n",
    "plt.tight_layout()\n",
    "plt.show()"
   ]
  },
  {
   "cell_type": "code",
   "execution_count": 7,
   "id": "b4807a38",
   "metadata": {},
   "outputs": [
    {
     "name": "stdout",
     "output_type": "stream",
     "text": [
      "Iteration 0, Cost: 0.6955162384893575, Accuracy: 0.3973941368078176\n",
      "Iteration 100, Cost: 0.48035472160771814, Accuracy: 0.7719869706840391\n",
      "Iteration 200, Cost: 0.4701271590480863, Accuracy: 0.7654723127035831\n",
      "Iteration 300, Cost: 0.4683621392307122, Accuracy: 0.7671009771986971\n",
      "Iteration 400, Cost: 0.46796825764570116, Accuracy: 0.7687296416938111\n",
      "Iteration 500, Cost: 0.4678704431607162, Accuracy: 0.7703583061889251\n",
      "Iteration 600, Cost: 0.4678447575727405, Accuracy: 0.7703583061889251\n",
      "Iteration 700, Cost: 0.46783777911630375, Accuracy: 0.7703583061889251\n",
      "Iteration 800, Cost: 0.4678358386229113, Accuracy: 0.7703583061889251\n",
      "Iteration 900, Cost: 0.46783528971516286, Accuracy: 0.7703583061889251\n"
     ]
    }
   ],
   "source": [
    "# Huấn luyện mô hình với tốc độ học 0.1 và số vòng lặp 1000\n",
    "W, b, costs, accuracies = logistic_regression_nn(X_train_T, y_train_T, learning_rate=0.1, num_iterations=1000)"
   ]
  },
  {
   "cell_type": "code",
   "execution_count": 8,
   "id": "b31aebbc",
   "metadata": {
    "scrolled": false
   },
   "outputs": [
    {
     "data": {
      "image/png": "[encoded data removed]",
      "text/plain": [
       "<Figure size 1200x500 with 2 Axes>"
      ]
     },
     "metadata": {},
     "output_type": "display_data"
    }
   ],
   "source": [
    "# Vẽ đồ thị chi phí và độ chính xác\n",
    "plt.figure(figsize=(12, 5))\n",
    "plt.subplot(1, 2, 1)\n",
    "plt.plot(costs)\n",
    "plt.title('Cost over iterations')\n",
    "plt.xlabel('Iterations')\n",
    "plt.ylabel('Cost')\n",
    "plt.subplot(1, 2, 2)\n",
    "plt.plot(accuracies)\n",
    "plt.title('Accuracy over iterations')\n",
    "plt.xlabel('Iterations')\n",
    "plt.ylabel('Accuracy')\n",
    "plt.tight_layout()\n",
    "plt.show()"
   ]
  },
  {
   "cell_type": "markdown",
   "id": "bdc13e30",
   "metadata": {},
   "source": [
    "Với tốc độ học 0.5, accuracy và cost hội tụ sau khoảng 100 vòng lặp.\n",
    "Với tốc độ học 0.1, accuracy và cost hội tụ sau khoảng 500 vòng lặp."
   ]
  },
  {
   "cell_type": "code",
   "execution_count": 9,
   "id": "c823a781",
   "metadata": {},
   "outputs": [
    {
     "name": "stdout",
     "output_type": "stream",
     "text": [
      "Accuracy on test set: 0.7532467532467533\n"
     ]
    }
   ],
   "source": [
    "def predict(X, W, b):\n",
    "    Z = np.dot(W, X) + b\n",
    "    A = sigmoid(Z)\n",
    "    Y_pred = np.round(A)\n",
    "    return Y_pred\n",
    "\n",
    "def evaluate(Y_pred, Y_true):\n",
    "    accuracy = np.mean(Y_pred == Y_true)\n",
    "    return accuracy\n",
    "\n",
    "# Dự đoán nhãn cho tập kiểm thử\n",
    "Y_test_pred = predict(X_test_T, W, b)\n",
    "\n",
    "# Đánh giá độ chính xác\n",
    "accuracy_test = evaluate(Y_test_pred, y_test_T)\n",
    "print(f\"Accuracy on test set: {accuracy_test}\")"
   ]
  },
  {
   "cell_type": "markdown",
   "id": "2de56b05",
   "metadata": {},
   "source": [
    "# Stochastic Gradient Descent"
   ]
  },
  {
   "cell_type": "code",
   "execution_count": 10,
   "id": "bddda0fe",
   "metadata": {},
   "outputs": [],
   "source": [
    "def logistic_regression_nn_sgd(X, Y, learning_rate, num_iterations):\n",
    "    m, n = X.shape\n",
    "    W = np.random.randn(1, m) * 0.01\n",
    "    b = 0\n",
    "    costs = []\n",
    "    accuracies = []\n",
    "\n",
    "    for i in range(num_iterations):\n",
    "        cost_sum = 0\n",
    "        accuracy_sum = 0\n",
    "        \n",
    "        for j in range(n):\n",
    "            X_j = X[:, j].reshape(-1, 1)\n",
    "            Y_j = Y[:, j].reshape(-1, 1)\n",
    "\n",
    "            Z_j = np.dot(W, X_j) + b\n",
    "            A_j = sigmoid(Z_j)\n",
    "\n",
    "            cost_j = compute_cost(Y_j, A_j)\n",
    "            cost_sum += cost_j\n",
    "\n",
    "            E_j = A_j - Y_j\n",
    "            dW_j = np.dot(E_j, X_j.T)\n",
    "            db_j = np.sum(E_j)\n",
    "\n",
    "            W -= learning_rate * dW_j\n",
    "            b -= learning_rate * db_j\n",
    "\n",
    "            accuracy_j = np.mean((A_j > 0.5) == Y_j)\n",
    "            accuracy_sum += accuracy_j\n",
    "        \n",
    "        cost_avg = cost_sum / n\n",
    "        accuracy_avg = accuracy_sum / n\n",
    "        costs.append(cost_avg)\n",
    "        accuracies.append(accuracy_avg)\n",
    "\n",
    "        if i % 10 == 0:\n",
    "            print(f\"Iteration {i}, Cost: {cost_avg}, Accuracy: {accuracy_avg}\")\n",
    "\n",
    "    return W, b, costs, accuracies"
   ]
  },
  {
   "cell_type": "code",
   "execution_count": 11,
   "id": "260a9df7",
   "metadata": {},
   "outputs": [
    {
     "name": "stdout",
     "output_type": "stream",
     "text": [
      "Iteration 0, Cost: 0.667102173543636, Accuracy: 0.6872964169381107\n",
      "Iteration 10, Cost: 0.49505716961898394, Accuracy: 0.7687296416938111\n",
      "Iteration 20, Cost: 0.4764079939003567, Accuracy: 0.7671009771986971\n",
      "Iteration 30, Cost: 0.47139932894854714, Accuracy: 0.7654723127035831\n",
      "Iteration 40, Cost: 0.46969590273507444, Accuracy: 0.7654723127035831\n",
      "Iteration 50, Cost: 0.4690474544169135, Accuracy: 0.7671009771986971\n",
      "Iteration 60, Cost: 0.4687842387373481, Accuracy: 0.7703583061889251\n",
      "Iteration 70, Cost: 0.4686729073578658, Accuracy: 0.7703583061889251\n",
      "Iteration 80, Cost: 0.46862440266493444, Accuracy: 0.7703583061889251\n",
      "Iteration 90, Cost: 0.468602752286045, Accuracy: 0.7703583061889251\n"
     ]
    }
   ],
   "source": [
    "# Huấn luyện mô hình với tốc độ học 0.001 và số vòng lặp 100\n",
    "W, b, costs, accuracies = logistic_regression_nn_sgd(X_train_T, y_train_T, learning_rate=0.001, num_iterations=100)"
   ]
  },
  {
   "cell_type": "markdown",
   "id": "2d342ee4",
   "metadata": {},
   "source": [
    "Thuật toán chỉ mất khoảng 60 vòng lặp để cost và accuracy hội tụ."
   ]
  },
  {
   "cell_type": "code",
   "execution_count": 12,
   "id": "a9c75787",
   "metadata": {},
   "outputs": [
    {
     "data": {
      "image/png": "[encoded data removed]",
      "text/plain": [
       "<Figure size 1200x500 with 2 Axes>"
      ]
     },
     "metadata": {},
     "output_type": "display_data"
    }
   ],
   "source": [
    "# Vẽ đồ thị chi phí và độ chính xác\n",
    "plt.figure(figsize=(12, 5))\n",
    "plt.subplot(1, 2, 1)\n",
    "plt.plot(costs)\n",
    "plt.title('Cost over iterations')\n",
    "plt.xlabel('Iterations')\n",
    "plt.ylabel('Cost')\n",
    "plt.subplot(1, 2, 2)\n",
    "plt.plot(accuracies)\n",
    "plt.title('Accuracy over iterations')\n",
    "plt.xlabel('Iterations')\n",
    "plt.ylabel('Accuracy')\n",
    "plt.tight_layout()\n",
    "plt.show()"
   ]
  },
  {
   "cell_type": "code",
   "execution_count": 13,
   "id": "b966bf7d",
   "metadata": {},
   "outputs": [
    {
     "name": "stdout",
     "output_type": "stream",
     "text": [
      "Iteration 0, Cost: 0.5527694685186032, Accuracy: 0.7638436482084691\n",
      "Iteration 10, Cost: 0.4749869831176442, Accuracy: 0.7736156351791531\n",
      "Iteration 20, Cost: 0.47497056315442926, Accuracy: 0.7736156351791531\n",
      "Iteration 30, Cost: 0.47497017734245195, Accuracy: 0.7736156351791531\n",
      "Iteration 40, Cost: 0.47497016701101774, Accuracy: 0.7736156351791531\n",
      "Iteration 50, Cost: 0.47497016674760345, Accuracy: 0.7736156351791531\n",
      "Iteration 60, Cost: 0.4749701667409513, Accuracy: 0.7736156351791531\n",
      "Iteration 70, Cost: 0.47497016674078246, Accuracy: 0.7736156351791531\n",
      "Iteration 80, Cost: 0.47497016674077874, Accuracy: 0.7736156351791531\n",
      "Iteration 90, Cost: 0.47497016674077885, Accuracy: 0.7736156351791531\n"
     ]
    }
   ],
   "source": [
    "# Huấn luyện mô hình với tốc độ học 0.01 và số vòng lặp 100\n",
    "W, b, costs, accuracies = logistic_regression_nn_sgd(X_train_T, y_train_T, learning_rate=0.01, num_iterations=100)"
   ]
  },
  {
   "cell_type": "markdown",
   "id": "34486de5",
   "metadata": {},
   "source": [
    "Tăng tốc độ học lên 0.01, sau 10 vòng lặp thì cost và accuracy đã hội tụ và độ chính xác cao hơn trước đó."
   ]
  },
  {
   "cell_type": "code",
   "execution_count": 14,
   "id": "d722aa16",
   "metadata": {},
   "outputs": [
    {
     "name": "stdout",
     "output_type": "stream",
     "text": [
      "Accuracy on test set: 0.7597402597402597\n"
     ]
    }
   ],
   "source": [
    "# Dự đoán nhãn cho tập kiểm thử\n",
    "Y_test_pred = predict(X_test_T, W, b)\n",
    "\n",
    "# Đánh giá độ chính xác\n",
    "accuracy_test = evaluate(Y_test_pred, y_test_T)\n",
    "print(f\"Accuracy on test set: {accuracy_test}\")"
   ]
  },
  {
   "cell_type": "code",
   "execution_count": 15,
   "id": "1a375463",
   "metadata": {},
   "outputs": [
    {
     "data": {
      "image/png": "[encoded data removed]",
      "text/plain": [
       "<Figure size 500x500 with 1 Axes>"
      ]
     },
     "metadata": {},
     "output_type": "display_data"
    }
   ],
   "source": [
    "from sklearn.metrics import roc_curve, roc_auc_score\n",
    "\n",
    "def predict_probabilities(W, b, X):\n",
    "    Z = np.dot(W, X) + b\n",
    "    A = sigmoid(Z)\n",
    "    return A.squeeze()\n",
    "\n",
    "def plot_roc_curve(y_true, y_score):\n",
    "    fpr, tpr, _ = roc_curve(y_true, y_score)\n",
    "    auc = roc_auc_score(y_true, y_score)\n",
    "    \n",
    "    plt.figure(figsize=(5, 5))\n",
    "    plt.plot(fpr, tpr, color='orange', label=f'AUC = {auc:.2f}')\n",
    "    plt.plot([0, 1], [0, 1], color='darkblue', linestyle='--')\n",
    "    plt.xlabel('False Positive Rate')\n",
    "    plt.ylabel('True Positive Rate')\n",
    "    plt.title('Receiver Operating Characteristic (ROC) Curve')\n",
    "    plt.legend()\n",
    "    plt.grid(True)\n",
    "    plt.show()\n",
    "\n",
    "\n",
    "y_score = predict_probabilities(W, b, X_test_T)\n",
    "plot_roc_curve(y_test, y_score)"
   ]
  },
  {
   "cell_type": "markdown",
   "id": "da658178",
   "metadata": {},
   "source": [
    "# Gradient Descent with Momentum"
   ]
  },
  {
   "cell_type": "markdown",
   "id": "b26ceb4f",
   "metadata": {},
   "source": [
    "Gradient Descent with Momentum là một biến thể của Gradient Descent, giúp thuật toán hội tụ nhanh hơn bằng cách tích lũy \"momentum\" từ các bước cập nhật trước đó. Để áp dụng momentum, chúng ta cập nhật các tham số không chỉ dựa vào gradient hiện tại mà còn dựa vào các bước cập nhật trước đó.\n",
    "\n",
    "Công thức cập nhật tham số với momentum như sau:\n",
    "\n",
    "\\begin{align*}\n",
    "V_{dW} &= \\beta V_{dW} + (1-\\beta)\\cdot dW\\\\\n",
    "V_{db} &= \\beta V_{db} + (1-\\beta)\\cdot db\\\\\n",
    "W &= W - \\alpha \\cdot V_{dW}\\\\\n",
    "b &= b - \\alpha \\cdot V_{db}\n",
    "\\end{align*}\n",
    "\n",
    "Trong đó:\n",
    "* $\\alpha$ là tốc độ học.\n",
    "* $\\beta$ là hệ số momentum (thường được chọn là 0.9).\n",
    "* $V_{dW}$ và $V_{db}$ là giá trị moving average của gradient.\n",
    "* $dW$ và $db$ là gradient của hàm chi phí đối với $W$ và $b$ tương ứng."
   ]
  },
  {
   "cell_type": "code",
   "execution_count": 16,
   "id": "de87f108",
   "metadata": {},
   "outputs": [],
   "source": [
    "def logistic_regression_nn_momentum(X, Y, learning_rate, num_iterations, beta=0.9):\n",
    "    m, n = X.shape\n",
    "    W = np.random.randn(1, m) * 0.01\n",
    "    b = 0\n",
    "    costs = []\n",
    "    accuracies = []\n",
    "\n",
    "    # Khởi tạo giá trị momentum\n",
    "    V_dW = np.zeros((1, m))\n",
    "    V_db = 0\n",
    "\n",
    "    for i in range(num_iterations):\n",
    "        Z = np.dot(W, X) + b\n",
    "        A = sigmoid(Z)\n",
    "        cost = compute_cost(Y, A)\n",
    "        costs.append(cost)\n",
    "\n",
    "        E = A - Y\n",
    "        dW = 1/n * np.dot(E, X.T)\n",
    "        db = 1/n * np.sum(E)\n",
    "\n",
    "        # Cập nhật giá trị momentum\n",
    "        V_dW = beta * V_dW + (1 - beta) * dW\n",
    "        V_db = beta * V_db + (1 - beta) * db\n",
    "\n",
    "        # Cập nhật tham số với momentum\n",
    "        W -= learning_rate * V_dW\n",
    "        b -= learning_rate * V_db\n",
    "\n",
    "        accuracy = np.mean((A > 0.5) == Y)\n",
    "        accuracies.append(accuracy)\n",
    "\n",
    "        if i % 100 == 0:\n",
    "            print(f\"Iteration {i}, Cost: {cost}, Accuracy: {accuracy}\")\n",
    "\n",
    "    return W, b, costs, accuracies"
   ]
  },
  {
   "cell_type": "code",
   "execution_count": 17,
   "id": "bb7d135a",
   "metadata": {},
   "outputs": [
    {
     "name": "stdout",
     "output_type": "stream",
     "text": [
      "Iteration 0, Cost: 0.6959785308585359, Accuracy: 0.40553745928338764\n",
      "Iteration 100, Cost: 0.47868239790468753, Accuracy: 0.7703583061889251\n",
      "Iteration 200, Cost: 0.46960321001826794, Accuracy: 0.7654723127035831\n",
      "Iteration 300, Cost: 0.46820973967115553, Accuracy: 0.7671009771986971\n",
      "Iteration 400, Cost: 0.4679229615136357, Accuracy: 0.7687296416938111\n",
      "Iteration 500, Cost: 0.4678568177457206, Accuracy: 0.7703583061889251\n",
      "Iteration 600, Cost: 0.46784063041923796, Accuracy: 0.7703583061889251\n",
      "Iteration 700, Cost: 0.46783652302814205, Accuracy: 0.7703583061889251\n",
      "Iteration 800, Cost: 0.4678354549095599, Accuracy: 0.7703583061889251\n",
      "Iteration 900, Cost: 0.4678351721379022, Accuracy: 0.7703583061889251\n"
     ]
    }
   ],
   "source": [
    "# Huấn luyện mô hình với tốc độ học 0.1 và số vòng lặp 1000\n",
    "W, b, costs, accuracies = logistic_regression_nn_momentum(X_train_T, y_train_T, learning_rate=0.1, num_iterations=1000)"
   ]
  },
  {
   "cell_type": "markdown",
   "id": "56d930b8",
   "metadata": {},
   "source": [
    "Với tốc độ học 0.1, cost và acurracy hội tụ sau 500 vòng lặp, không nhanh hơn SGD."
   ]
  },
  {
   "cell_type": "markdown",
   "id": "62eb9fe4",
   "metadata": {},
   "source": [
    "# Thiết kế mạng nơ-ron sâu cho Bài toán phân loại nhị phân"
   ]
  },
  {
   "cell_type": "markdown",
   "id": "bfb8348f",
   "metadata": {},
   "source": [
    "Trong phần trước, mạng nơ-ron được thiết kế chỉ gồm lớp input và lớp output có hàm kích hoạt $\\text{sigmoid}$. Ta sẽ thiết kế mạng nơ-ron sâu hơn với thêm một lớp ẩn có hàm kích hoạt $\\text{ReLU}$ (hàm đơn vị tuyến tính hiệu chỉnh) định nghĩa như sau:\n",
    "\\begin{align*}\n",
    "\\text{ReLU}(z) = \\max\\{0,z\\}\n",
    "\\end{align*}\n",
    "\n",
    "Có đạo hàm là:\n",
    "\\begin{align*}\n",
    "\\frac{d}{dz}\\text{ReLU}(z) = \\begin{cases}\n",
    "          0, \\, z<0 \\\\\n",
    "          1, \\, z>0 \\\\\n",
    "                 \\end{cases}\n",
    "\\end{align*}\n",
    "\n",
    "Kiến trúc mạng nơ-ron mới gồm:\n",
    "* **Đầu vào:** $n_x$ đặc trưng.\n",
    "* **Lớp ẩn:** Một lớp ẩn với $n_h$ nút và hàm kích hoạt $\\text{ReLU}$, có ma trận trọng số $W_1$.\n",
    "* **Đầu ra:** Một nút đầu ra $n_y$ với hàm kích hoạt $\\text{sigmoid}$, có ma trận trọng số $W_2$.\n",
    "\n",
    "Với mạng nơ-ron cũ, nhiệm vụ là tối ưu hàm chi phí:\n",
    "\\begin{align*}\n",
    "J = - \\frac{1}{n} \\sum_{i=1}^n \\left(y\\ln(\\hat{y})+(1-y)\\ln(1-\\hat{y})\\right)\n",
    "\\end{align*}\n",
    "\n",
    "Trong phần này, ta vẫn tối ưu hàm trên nhưng với điều kiện là tổng bình phương tất cả trọng số bị chặn, để làm giảm độ lớn các trọng số. Bằng phương pháp toán tử Larange, ta bổ sung tham số điều chỉnh $\\lambda>0$ và tối ưu hàm chi phí mới:\n",
    "\\begin{align*}\n",
    "J_{\\text{new}} = J + \\frac{\\lambda}{2n} \\sum_{w \\in W_1,W_2} w^2\n",
    "\\end{align*}"
   ]
  },
  {
   "cell_type": "code",
   "execution_count": 18,
   "id": "827e5d74",
   "metadata": {},
   "outputs": [],
   "source": [
    "def relu(z):\n",
    "    return np.maximum(0, z)\n",
    "\n",
    "def relu_derivative(z):\n",
    "    return (z > 0).astype(z.dtype)\n",
    "\n",
    "def compute_cost_v2(Y, Y_hat, W1, W2, lambd):\n",
    "    m = Y.shape[1]\n",
    "    L2_regularization_cost = (lambd / (2 * m)) * (np.sum(np.square(W1)) + np.sum(np.square(W2)))\n",
    "    return (-1/m * np.sum(Y * np.log(Y_hat) + (1 - Y) * np.log(1 - Y_hat))) + L2_regularization_cost"
   ]
  },
  {
   "cell_type": "markdown",
   "id": "43129043",
   "metadata": {},
   "source": [
    "Để tăng tính chính xác và cải thiện tốc độ cho mô hình, ta sẽ sử dụng thêm một số kĩ thuật:\n",
    "* **Dropout:** Trong mỗi epoch, mỗi nút có xác suất được giữ lại $\\text{keep_prob}$ và xác suất bị loại bỏ là $1-\\text{keep_prob}$, để đảm bảo các nút không quá phụ thuộc lẫn nhau và tránh overfitting. Khi dự đoán, tất cả các nút đều được sử dụng.\n",
    "* **Khởi tạo Xavier:** Là một phương pháp để đặt giá trị ban đầu của các trọng số trong mạng nơ-ron dựa trên kích thước của lớp đầu vào và lớp đầu ra, thường được thực hiện như sau:\n",
    "\\begin{align*}\n",
    "W = \\text{np.random.randn}(n_{\\text{out}},n_{\\text{in}})\\times \\sqrt{\\frac{2}{n_{\\text{in}}+n_{\\text{out}}}}\n",
    "\\end{align*}\n",
    "\n",
    "Trong đó:\n",
    "* $W$ là ma trận trọng số cần khởi tạo.\n",
    "* $n_{\\text{in}}$ là số lượng nút trong lớp trước (đầu vào của $W$).\n",
    "* $n_{\\text{out}}$ là số lượng nút trong lớp sau (đầu ra của $W$)."
   ]
  },
  {
   "cell_type": "code",
   "execution_count": 19,
   "id": "ba13a156",
   "metadata": {},
   "outputs": [],
   "source": [
    "def initialize_parameters(n_x, n_h, n_y):\n",
    "    np.random.seed(1)\n",
    "    \n",
    "    # Khởi tạo Xavier\n",
    "    W1 = np.random.randn(n_h, n_x) * np.sqrt(2. / (n_x + n_h))\n",
    "    b1 = np.zeros((n_h, 1))\n",
    "    W2 = np.random.randn(n_y, n_h) * np.sqrt(2. / (n_h + n_y))\n",
    "    b2 = np.zeros((n_y, 1))\n",
    "    \n",
    "    return W1, b1, W2, b2\n",
    "\n",
    "def logistic_regression_nn_v2(X, Y, n_h, learning_rate, num_iterations, lambd, keep_prob):\n",
    "    n_x, m = X.shape\n",
    "    n_y = Y.shape[0]\n",
    "    \n",
    "    W1, b1, W2, b2 = initialize_parameters(n_x, n_h, n_y)\n",
    "    \n",
    "    costs = []\n",
    "    accuracies = []\n",
    "    best_acc = 0  # keep track of the best accuracy\n",
    "    best_params = {}  # keep track of the best parameters\n",
    "    \n",
    "    for i in range(num_iterations):\n",
    "        # Lan truyền tiến với Dropout\n",
    "        Z1 = np.dot(W1, X) + b1\n",
    "        A1 = relu(Z1)\n",
    "        D1 = (np.random.rand(*A1.shape) < keep_prob)  # create a dropout mask\n",
    "        A1 *= D1  # apply the dropout mask\n",
    "        A1 /= keep_prob  # scale the value of neurons that haven't been shut down\n",
    "        Z2 = np.dot(W2, A1) + b2\n",
    "        A2 = sigmoid(Z2)\n",
    "        \n",
    "        cost = compute_cost_v2(Y, A2, W1, W2, lambd)\n",
    "        costs.append(cost)\n",
    "        \n",
    "        # Lan truyền ngược với Dropout\n",
    "        dZ2 = A2 - Y\n",
    "        dW2 = (1/m) * np.dot(dZ2, A1.T) + (lambd / m) * W2\n",
    "        db2 = (1/m) * np.sum(dZ2, axis=1, keepdims=True)\n",
    "        \n",
    "        dA1 = np.dot(W2.T, dZ2)\n",
    "        dA1 *= D1  # apply dropout mask to the backward path\n",
    "        dZ1 = dA1 * relu_derivative(Z1)\n",
    "        dW1 = (1/m) * np.dot(dZ1, X.T) + (lambd / m) * W1\n",
    "        db1 = (1/m) * np.sum(dZ1, axis=1, keepdims=True)\n",
    "        \n",
    "        # Update parameters\n",
    "        W1 -= learning_rate * dW1\n",
    "        b1 -= learning_rate * db1\n",
    "        W2 -= learning_rate * dW2\n",
    "        b2 -= learning_rate * db2\n",
    "        \n",
    "        # Compute accuracy\n",
    "        accuracy = np.mean((A2 > 0.5) == Y)\n",
    "        accuracies.append(accuracy)\n",
    "        \n",
    "        # Early stopping: Save the parameters which give the best accuracy on the training set\n",
    "        if accuracy > best_acc:\n",
    "            best_acc = accuracy\n",
    "            best_cost = cost\n",
    "            best_params = {\"W1\": W1, \"b1\": b1, \"W2\": W2, \"b2\": b2}\n",
    "        \n",
    "        if i % 100 == 0:\n",
    "            print(f\"Iteration {i}, Cost: {cost}, Accuracy: {accuracy}\")\n",
    "    \n",
    "    return best_params, costs, accuracies, best_cost, best_acc"
   ]
  },
  {
   "cell_type": "code",
   "execution_count": 20,
   "id": "80c6ace3",
   "metadata": {},
   "outputs": [
    {
     "name": "stdout",
     "output_type": "stream",
     "text": [
      "Iteration 0, Cost: 0.7396573790509442, Accuracy: 0.3811074918566775\n",
      "Iteration 100, Cost: 0.5239361017200217, Accuracy: 0.7654723127035831\n",
      "Iteration 200, Cost: 0.47861873226675594, Accuracy: 0.7719869706840391\n",
      "Iteration 300, Cost: 0.4688504947289549, Accuracy: 0.7719869706840391\n",
      "Iteration 400, Cost: 0.45381159986474995, Accuracy: 0.7768729641693811\n",
      "Iteration 500, Cost: 0.45120708125783016, Accuracy: 0.7833876221498371\n",
      "Iteration 600, Cost: 0.44503151843986866, Accuracy: 0.7768729641693811\n",
      "Iteration 700, Cost: 0.44143649238080923, Accuracy: 0.7931596091205212\n",
      "Iteration 800, Cost: 0.43573424944276534, Accuracy: 0.7833876221498371\n",
      "Iteration 900, Cost: 0.43684322319204205, Accuracy: 0.7996742671009772\n",
      "Best accuracy: 0.8078175895765473\n",
      "Best cost: 0.430304863101722\n"
     ]
    }
   ],
   "source": [
    "# Adjusted parameters\n",
    "n_h = 100  # number of nodes in hidden layer\n",
    "learning_rate = 0.03  # learning rate\n",
    "lambd = 0.05  # regularization parameter\n",
    "keep_prob = 0.9  # dropout keep probability\n",
    "\n",
    "# Train the model and retrieve results\n",
    "params, costs, accuracies, best_cost, best_acc = logistic_regression_nn_v2(X_train_T, y_train_T, n_h=n_h, learning_rate=learning_rate, num_iterations=1000, lambd=lambd, keep_prob=keep_prob)\n",
    "\n",
    "# Return the final accuracy\n",
    "print(f\"Best accuracy: {best_acc}\")\n",
    "print(f\"Best cost: {best_cost}\")"
   ]
  },
  {
   "cell_type": "code",
   "execution_count": 21,
   "id": "c771e336",
   "metadata": {},
   "outputs": [
    {
     "data": {
      "image/png": "[encoded data removed]",
      "text/plain": [
       "<Figure size 1200x500 with 2 Axes>"
      ]
     },
     "metadata": {},
     "output_type": "display_data"
    }
   ],
   "source": [
    "# Plot the cost and accuracy graphs\n",
    "plt.figure(figsize=(12, 5))\n",
    "plt.subplot(1, 2, 1)\n",
    "plt.plot(costs)\n",
    "plt.title('Cost over iterations')\n",
    "plt.xlabel('Iterations')\n",
    "plt.ylabel('Cost')\n",
    "plt.subplot(1, 2, 2)\n",
    "plt.plot(accuracies)\n",
    "plt.title('Accuracy over iterations')\n",
    "plt.xlabel('Iterations')\n",
    "plt.ylabel('Accuracy')\n",
    "plt.tight_layout()\n",
    "plt.show()"
   ]
  },
  {
   "cell_type": "code",
   "execution_count": 22,
   "id": "b5820444",
   "metadata": {},
   "outputs": [
    {
     "name": "stdout",
     "output_type": "stream",
     "text": [
      "Accuracy on test set: 0.7662337662337663\n"
     ]
    }
   ],
   "source": [
    "def predict(X, params):\n",
    "    W1, b1, W2, b2 = params[\"W1\"], params[\"b1\"], params[\"W2\"], params[\"b2\"]\n",
    "    \n",
    "    # Forward propagation\n",
    "    Z1 = np.dot(W1, X) + b1\n",
    "    A1 = relu(Z1)\n",
    "    Z2 = np.dot(W2, A1) + b2\n",
    "    A2 = sigmoid(Z2)\n",
    "    \n",
    "    return A2 > 0.5\n",
    "\n",
    "# Predict on the test set\n",
    "predictions = predict(X_test_T, params)\n",
    "\n",
    "# Calculate accuracy\n",
    "accuracy_test = np.mean(predictions == y_test_T)\n",
    "\n",
    "print(f\"Accuracy on test set: {accuracy_test}\")"
   ]
  },
  {
   "cell_type": "markdown",
   "id": "5eb224bd",
   "metadata": {},
   "source": [
    "Tóm lại, sau khi cải thiện mạng cho độ chính xác cao hơn và mất mát thấp hơn trên tập huấn luyện cũng như trên tập kiểm tra."
   ]
  },
  {
   "cell_type": "markdown",
   "id": "0ddf909e",
   "metadata": {},
   "source": [
    "Tiếp theo, ta sử dụng Stochastic Gradient Descent và với số vòng lặp giảm xuống đáng kể, còn 100."
   ]
  },
  {
   "cell_type": "code",
   "execution_count": 23,
   "id": "4204e556",
   "metadata": {},
   "outputs": [],
   "source": [
    "def logistic_regression_nn_v2_sgd(X, Y, n_h, learning_rate, num_iterations, lambd, keep_prob):\n",
    "    n_x, m = X.shape\n",
    "    n_y = Y.shape[0]\n",
    "    \n",
    "    W1, b1, W2, b2 = initialize_parameters(n_x, n_h, n_y)\n",
    "    \n",
    "    costs = []\n",
    "    accuracies = []\n",
    "    best_acc = 0  # keep track of the best accuracy\n",
    "    best_params = {}  # keep track of the best parameters\n",
    "    \n",
    "    for i in range(num_iterations):\n",
    "        cost_total = 0  # to accumulate cost for all samples and average later\n",
    "        for j in range(m):  # loop over each training sample\n",
    "            X_sample = X[:, j].reshape(-1, 1)\n",
    "            Y_sample = Y[:, j].reshape(-1, 1)\n",
    "            \n",
    "            # Forward Propagation with Dropout\n",
    "            Z1 = np.dot(W1, X_sample) + b1\n",
    "            A1 = relu(Z1)\n",
    "            D1 = (np.random.rand(*A1.shape) < keep_prob)  # create a dropout mask\n",
    "            A1 *= D1  # apply the dropout mask\n",
    "            A1 /= keep_prob  # scale the value of neurons that haven't been shut down\n",
    "            Z2 = np.dot(W2, A1) + b2\n",
    "            A2 = sigmoid(Z2)\n",
    "            \n",
    "            cost_total += compute_cost_v2(Y_sample, A2, W1, W2, lambd)\n",
    "            \n",
    "            # Backward Propagation with Dropout\n",
    "            dZ2 = A2 - Y_sample\n",
    "            dW2 = np.dot(dZ2, A1.T) + (lambd / m) * W2\n",
    "            db2 = np.sum(dZ2, axis=1, keepdims=True)\n",
    "            \n",
    "            dA1 = np.dot(W2.T, dZ2)\n",
    "            dA1 *= D1  # apply dropout mask to the backward path\n",
    "            dZ1 = dA1 * relu_derivative(Z1)\n",
    "            dW1 = np.dot(dZ1, X_sample.T) + (lambd / m) * W1\n",
    "            db1 = np.sum(dZ1, axis=1, keepdims=True)\n",
    "            \n",
    "            # Update parameters\n",
    "            W1 -= learning_rate * dW1\n",
    "            b1 -= learning_rate * db1\n",
    "            W2 -= learning_rate * dW2\n",
    "            b2 -= learning_rate * db2\n",
    "        \n",
    "        # Average cost for this iteration\n",
    "        cost_avg = cost_total / m\n",
    "        costs.append(cost_avg)\n",
    "        \n",
    "        # Forward Propagation for all samples to compute accuracy\n",
    "        Z1 = np.dot(W1, X) + b1\n",
    "        A1 = relu(Z1)\n",
    "        Z2 = np.dot(W2, A1) + b2\n",
    "        A2 = sigmoid(Z2)\n",
    "        accuracy = np.mean((A2 > 0.5) == Y)\n",
    "        accuracies.append(accuracy)\n",
    "        \n",
    "        # Early stopping: Save the parameters which give the best accuracy on the training set\n",
    "        if accuracy > best_acc:\n",
    "            best_acc = accuracy\n",
    "            best_params = {\"W1\": W1, \"b1\": b1, \"W2\": W2, \"b2\": b2}\n",
    "        \n",
    "        if i % 10 == 0:\n",
    "            print(f\"Iteration {i}, Accuracy: {accuracy}\")\n",
    "    \n",
    "    return best_params, costs, accuracies, best_cost, best_acc"
   ]
  },
  {
   "cell_type": "code",
   "execution_count": 24,
   "id": "8bda7c6f",
   "metadata": {},
   "outputs": [
    {
     "name": "stdout",
     "output_type": "stream",
     "text": [
      "Iteration 0, Accuracy: 0.7719869706840391\n",
      "Iteration 10, Accuracy: 0.7866449511400652\n",
      "Iteration 20, Accuracy: 0.7947882736156352\n",
      "Iteration 30, Accuracy: 0.7964169381107492\n",
      "Iteration 40, Accuracy: 0.8127035830618893\n",
      "Iteration 50, Accuracy: 0.8029315960912052\n",
      "Iteration 60, Accuracy: 0.8143322475570033\n",
      "Iteration 70, Accuracy: 0.8289902280130294\n",
      "Iteration 80, Accuracy: 0.8224755700325733\n",
      "Iteration 90, Accuracy: 0.8078175895765473\n",
      "Best accuracy: 0.8289902280130294\n"
     ]
    }
   ],
   "source": [
    "# Adjusted parameters\n",
    "n_h = 100  # number of nodes in hidden layer\n",
    "learning_rate = 0.02  # learning rate\n",
    "lambd = 0.04  # regularization parameter\n",
    "keep_prob = 0.42  # dropout keep probability\n",
    "\n",
    "# Train the model and retrieve results\n",
    "params, costs, accuracies, best_cost, best_acc = logistic_regression_nn_v2_sgd(X_train_T, y_train_T, n_h=n_h, learning_rate=learning_rate, num_iterations=100, lambd=lambd, keep_prob=keep_prob)\n",
    "\n",
    "# Return the final accuracy\n",
    "print(f\"Best accuracy: {best_acc}\")"
   ]
  },
  {
   "cell_type": "code",
   "execution_count": 25,
   "id": "18f53a9a",
   "metadata": {},
   "outputs": [
    {
     "name": "stdout",
     "output_type": "stream",
     "text": [
      "Accuracy on test set: 0.7727272727272727\n"
     ]
    }
   ],
   "source": [
    "# Predict on the test set\n",
    "predictions = predict(X_test_T, params)\n",
    "\n",
    "# Calculate accuracy\n",
    "accuracy_test = np.mean(predictions == y_test_T)\n",
    "\n",
    "print(f\"Accuracy on test set: {accuracy_test}\")"
   ]
  },
  {
   "cell_type": "markdown",
   "id": "8170a5a7",
   "metadata": {},
   "source": [
    "# Triển khai mô hình trên bộ dữ liệu lớn"
   ]
  },
  {
   "cell_type": "markdown",
   "id": "73f820e5",
   "metadata": {},
   "source": [
    "Ta sẽ chạy thử mô hình trên bộ dữ liệu lớn hơn gồm 26000 điểm dữ liệu với 20 thuộc tính để xem xét độ chính xác và tốc độ của mô hình được xây dựng."
   ]
  },
  {
   "cell_type": "code",
   "execution_count": 26,
   "id": "3f576fbd",
   "metadata": {},
   "outputs": [
    {
     "name": "stdout",
     "output_type": "stream",
     "text": [
      "   HeartDiseaseorAttack  HighBP  HighChol  CholCheck   BMI  Smoker  Stroke  \\\n",
      "0                   0.0     1.0       1.0        1.0  40.0     1.0     0.0   \n",
      "1                   0.0     0.0       0.0        0.0  25.0     1.0     0.0   \n",
      "2                   0.0     1.0       1.0        1.0  28.0     0.0     0.0   \n",
      "3                   0.0     1.0       0.0        1.0  27.0     0.0     0.0   \n",
      "4                   0.0     1.0       1.0        1.0  24.0     0.0     0.0   \n",
      "\n",
      "   Diabetes  PhysActivity  Fruits  ...  AnyHealthcare  NoDocbcCost  GenHlth  \\\n",
      "0       0.0           0.0     0.0  ...            1.0          0.0      5.0   \n",
      "1       0.0           1.0     0.0  ...            0.0          1.0      3.0   \n",
      "2       0.0           0.0     1.0  ...            1.0          1.0      5.0   \n",
      "3       0.0           1.0     1.0  ...            1.0          0.0      2.0   \n",
      "4       0.0           1.0     1.0  ...            1.0          0.0      2.0   \n",
      "\n",
      "   MentHlth  PhysHlth  DiffWalk  Sex   Age  Education  Income  \n",
      "0      18.0      15.0       1.0  0.0   9.0        4.0     3.0  \n",
      "1       0.0       0.0       0.0  0.0   7.0        6.0     1.0  \n",
      "2      30.0      30.0       1.0  0.0   9.0        4.0     8.0  \n",
      "3       0.0       0.0       0.0  0.0  11.0        3.0     6.0  \n",
      "4       3.0       0.0       0.0  0.0  11.0        5.0     4.0  \n",
      "\n",
      "[5 rows x 22 columns]\n"
     ]
    }
   ],
   "source": [
    "data = pd.read_csv(\"C:\\\\Users\\\\admin\\\\Downloads\\\\heart_disease_health_indicators_BRFSS2015.csv\")\n",
    "data_head = data.head()\n",
    "\n",
    "print(data_head)"
   ]
  },
  {
   "cell_type": "code",
   "execution_count": 27,
   "id": "688e46a8",
   "metadata": {},
   "outputs": [],
   "source": [
    "X = data.drop('HeartDiseaseorAttack', axis=1).values\n",
    "y = data['HeartDiseaseorAttack'].values\n",
    "\n",
    "# Chia tập huấn luyện (80%) và tập kiểm tra (20%)\n",
    "X_train, X_test, y_train, y_test = train_test_split(X, y, test_size=0.2, random_state=42)\n",
    "\n",
    "# Chuẩn hóa và tiền xử lý dữ liệu, phép toán .T để lấy chuyển vị\n",
    "scaler = StandardScaler()\n",
    "X_train_scaled = scaler.fit_transform(X_train)\n",
    "X_test_scaled = scaler.transform(X_test)\n",
    "X_train_T = X_train_scaled.T\n",
    "y_train_T = y_train.reshape(1, y_train.shape[0])\n",
    "X_test_T = X_test_scaled.T\n",
    "y_test_T = y_test.reshape(1, y_test.shape[0])"
   ]
  },
  {
   "cell_type": "code",
   "execution_count": 28,
   "id": "164da129",
   "metadata": {},
   "outputs": [
    {
     "name": "stdout",
     "output_type": "stream",
     "text": [
      "Iteration 0, Cost: 0.7180857324654093, Accuracy: 0.5033063308104699\n",
      "Iteration 100, Cost: 0.285249224070571, Accuracy: 0.9057917455061495\n",
      "Iteration 200, Cost: 0.2593676239952853, Accuracy: 0.9062992746767581\n",
      "Iteration 300, Cost: 0.25161572932247595, Accuracy: 0.9066540523494165\n",
      "Iteration 400, Cost: 0.24793240533364802, Accuracy: 0.9067033270261747\n",
      "Iteration 500, Cost: 0.24569230488868304, Accuracy: 0.9070433222958058\n",
      "Iteration 600, Cost: 0.2447926241732993, Accuracy: 0.9069595553453169\n",
      "Iteration 700, Cost: 0.24370229002019458, Accuracy: 0.9066983995584988\n",
      "Iteration 800, Cost: 0.24343544071974313, Accuracy: 0.906747674235257\n",
      "Iteration 900, Cost: 0.2425393121467634, Accuracy: 0.9069447729422895\n",
      "Best accuracy: 0.9073586802270577\n"
     ]
    }
   ],
   "source": [
    "# Adjusted parameters\n",
    "n_h = 100  # number of nodes in hidden layer\n",
    "learning_rate = 0.04 # learning rate\n",
    "lambd = 0.05  # regularization parameter\n",
    "keep_prob = 0.9  # dropout keep probability\n",
    "\n",
    "# Train the model and retrieve results\n",
    "params, costs, accuracies, best_cost, best_acc = logistic_regression_nn_v2(X_train_T, y_train_T, n_h=n_h, learning_rate=learning_rate, num_iterations=1000, lambd=lambd, keep_prob=keep_prob)\n",
    "\n",
    "# Return the final accuracy\n",
    "print(f\"Best accuracy: {best_acc}\")"
   ]
  },
  {
   "cell_type": "code",
   "execution_count": 29,
   "id": "6557c7c7",
   "metadata": {},
   "outputs": [
    {
     "name": "stdout",
     "output_type": "stream",
     "text": [
      "Accuracy on test set: 0.9078760643330179\n"
     ]
    }
   ],
   "source": [
    "# Predict on the test set\n",
    "predictions = predict(X_test_T, params)\n",
    "\n",
    "# Calculate accuracy\n",
    "accuracy_test = np.mean(predictions == y_test_T)\n",
    "\n",
    "print(f\"Accuracy on test set: {accuracy_test}\")"
   ]
  },
  {
   "cell_type": "markdown",
   "id": "9217efb7",
   "metadata": {},
   "source": [
    "Mô hình thiết kế có độ chính xác 90% trên 26000 điểm dữ liệu huấn luyện và kiểm tra. Do thời gian có hạn, chưa thử tăng số vòng lặp lên nhiều hơn để so sánh."
   ]
  },
  {
   "cell_type": "code",
   "execution_count": 30,
   "id": "2507b004",
   "metadata": {},
   "outputs": [
    {
     "name": "stdout",
     "output_type": "stream",
     "text": [
      "Iteration 0, Accuracy: 0.9075853437401451\n",
      "Iteration 10, Accuracy: 0.907954903815831\n",
      "Iteration 20, Accuracy: 0.9079746136865342\n",
      "Iteration 30, Accuracy: 0.9082259145380006\n",
      "Iteration 40, Accuracy: 0.9080633081046988\n",
      "Iteration 50, Accuracy: 0.9077922973825292\n",
      "Iteration 60, Accuracy: 0.9083096814884895\n",
      "Iteration 70, Accuracy: 0.907639545884579\n",
      "Iteration 80, Accuracy: 0.9082899716177862\n",
      "Iteration 90, Accuracy: 0.9081815673289183\n",
      "Best accuracy: 0.908452578051088\n"
     ]
    }
   ],
   "source": [
    "# Adjusted parameters\n",
    "n_h = 100  # number of nodes in hidden layer\n",
    "learning_rate = 0.02  # learning rate\n",
    "lambd = 0.04  # regularization parameter\n",
    "keep_prob = 0.42  # dropout keep probability\n",
    "\n",
    "# Train the model and retrieve results\n",
    "params, costs, accuracies, best_cost, best_acc = logistic_regression_nn_v2_sgd(X_train_T, y_train_T, n_h=n_h, learning_rate=learning_rate, num_iterations=100, lambd=lambd, keep_prob=keep_prob)\n",
    "\n",
    "# Return the final accuracy\n",
    "print(f\"Best accuracy: {best_acc}\")"
   ]
  },
  {
   "cell_type": "code",
   "execution_count": 31,
   "id": "51f7ab4b",
   "metadata": {},
   "outputs": [
    {
     "name": "stdout",
     "output_type": "stream",
     "text": [
      "Accuracy on test set: 0.9076789656259855\n"
     ]
    }
   ],
   "source": [
    "# Predict on the test set\n",
    "predictions = predict(X_test_T, params)\n",
    "\n",
    "# Calculate accuracy\n",
    "accuracy_test = np.mean(predictions == y_test_T)\n",
    "\n",
    "print(f\"Accuracy on test set: {accuracy_test}\")"
   ]
  },
  {
   "cell_type": "markdown",
   "id": "dd45f0e1",
   "metadata": {},
   "source": [
    "Trên bộ dữ liệu lớn, mô hình mất rất nhiều thời gian và tài nguyên chạy. Ta sẽ triển khai một số phương pháp nhằm tăng tốc độ, trong đó có kể đến việc tính toán đa luồng và xử lý song song."
   ]
  },
  {
   "cell_type": "markdown",
   "id": "370c1937",
   "metadata": {},
   "source": [
    "# Ứng dụng tối ưu ADAM tăng tốc độ hội tụ"
   ]
  },
  {
   "cell_type": "markdown",
   "id": "9b379a64",
   "metadata": {},
   "source": [
    "**Thuật toán tối ưu ADAM** (Adaptive Moment Estimation, hay _Ước tính mô-men thích ứng_) là một phương pháp tối ưu hóa được thiết kế đặc biệt để tăng tốc độ hội tụ và giảm thiểu khả năng bị kẹt trong các điểm tối ưu địa phương trong quá trình đào tạo mạng nơ-ron. ADAM kết hợp các ý tưởng từ hai phương pháp tối ưu hóa khác: RMSProp (Root Mean Square Propagation) và Momentum.\n",
    "\n",
    "ADAM duy trì hai biến tích lũy, $m$ và $v$, cho từng tham số và sử dụng chúng để tính toán ước lượng mô-men bậc nhất và bậc hai của gradient.\n",
    "* $m_t$ là ước lượng mô-men bậc nhất (mean) của gradient.\n",
    "* $v_t$ là ước lượng mô-men bậc hai (uncentered variance) của gradient.\n",
    "\n",
    "Giả sử cần tối ưu hàm $J(w)$ với $w$ là trọng số. Ta sẽ lặp lại các bước cập nhật sau cho đến khi $w$ hội tụ:\n",
    "\n",
    "**1. Bước 1:** Tính toán gradient\n",
    "\\begin{align*}\n",
    "g_t = \\nabla_{w} J(w)\n",
    "\\end{align*} \n",
    "\n",
    "**2. Bước 2:** Cập nhật mô-men bậc nhất (mean) và bậc hai (variance) của gradient\n",
    "\\begin{align*}\n",
    "m_t &= \\beta_1m_{t-1}+(1-\\beta_1)g_{t-1}\\\\\n",
    "v_t &= \\beta_2v_{t-1}+(1-\\beta_2)g_{t-1}^2\n",
    "\\end{align*}\n",
    "\n",
    "Trong đó, $\\beta_1$ và $\\beta_2$ là hệ số giảm trọng số cho mô-men bậc nhất và bậc hai tương ứng (thường được đặt là $0.9$ và $0.999$).\n",
    "\n",
    "**3. Bước 3:** Hiệu chỉnh mô-men bậc nhất và bậc hai\n",
    "\\begin{align*}\n",
    "\\hat{m_t} &= \\frac{m_t}{1-\\beta_1^2}\\\\\n",
    "\\hat{v_t} &= \\frac{v_t}{1-\\beta_2^2}\n",
    "\\end{align*}\n",
    "\n",
    "**4. Bước 4:** Cập nhật trọng số\n",
    "\\begin{align*}\n",
    "w_{t+1} = w_t - \\frac{\\alpha}{\\sqrt{\\hat{v_t}}+\\varepsilon} \\hat{m_t}\n",
    "\\end{align*}\n",
    "\n",
    "Trong công thức trên:\n",
    "* $\\alpha$ là tốc độ học.\n",
    "* $\\varepsilon$ là một số rất nhỏ để tránh chia cho số 0 (thường là $10^{-8}$).\n",
    "* $w_{t+1}$ là giá trị mới của tham số sau bước cập nhật.\n",
    "\n",
    "Bằng cách này, ADAM sử dụng cả thông tin về mức độ và hướng của gradient để cập nhật các tham số, cung cấp sự ổn định (từ mô-men bậc hai) và tăng tốc độ (từ mô-men bậc nhất). Mô-men bậc nhất giúp bài toán tối ưu hóa \"chạy\" theo hướng có gradient lớn, trong khi mô-men bậc hai giúp làm giảm tốc độ học khi gradient nhỏ. Điều này làm cho ADAM trở thành một lựa chọn tốt cho nhiều bài toán tối ưu hóa trong học sâu."
   ]
  },
  {
   "cell_type": "code",
   "execution_count": 32,
   "id": "2888e4b2",
   "metadata": {},
   "outputs": [],
   "source": [
    "def logistic_regression_nn_v2_with_adam(X, Y, n_h, learning_rate, num_iterations, lambd, keep_prob, beta1=0.9, beta2=0.999, epsilon=1e-8):\n",
    "    n_x, m = X.shape\n",
    "    n_y = Y.shape[0]\n",
    "    \n",
    "    W1, b1, W2, b2 = initialize_parameters(n_x, n_h, n_y)\n",
    "    m_W1, m_b1, m_W2, m_b2 = np.zeros_like(W1), np.zeros_like(b1), np.zeros_like(W2), np.zeros_like(b2)\n",
    "    v_W1, v_b1, v_W2, v_b2 = np.zeros_like(W1), np.zeros_like(b1), np.zeros_like(W2), np.zeros_like(b2)\n",
    "    \n",
    "    costs = []\n",
    "    accuracies = []\n",
    "    best_acc = 0  # keep track of the best accuracy\n",
    "    best_params = {}  # keep track of the best parameters\n",
    "\n",
    "    for i in range(num_iterations):\n",
    "        # Forward propagation with Dropout\n",
    "        Z1 = np.dot(W1, X) + b1\n",
    "        A1 = relu(Z1)\n",
    "        D1 = (np.random.rand(*A1.shape) < keep_prob)\n",
    "        A1 *= D1\n",
    "        A1 /= keep_prob\n",
    "        Z2 = np.dot(W2, A1) + b2\n",
    "        A2 = sigmoid(Z2)\n",
    "        \n",
    "        cost = compute_cost_v2(Y, A2, W1, W2, lambd)\n",
    "        costs.append(cost)\n",
    "        \n",
    "        # Backward propagation with Dropout\n",
    "        dZ2 = A2 - Y\n",
    "        dW2 = (1/m) * np.dot(dZ2, A1.T) + (lambd / m) * W2\n",
    "        db2 = (1/m) * np.sum(dZ2, axis=1, keepdims=True)\n",
    "        \n",
    "        dA1 = np.dot(W2.T, dZ2)\n",
    "        dA1 *= D1\n",
    "        dZ1 = dA1 * relu_derivative(Z1)\n",
    "        dW1 = (1/m) * np.dot(dZ1, X.T) + (lambd / m) * W1\n",
    "        db1 = (1/m) * np.sum(dZ1, axis=1, keepdims=True)\n",
    "\n",
    "        # Update parameters with Adam\n",
    "        m_W1 = beta1 * m_W1 + (1 - beta1) * dW1\n",
    "        v_W1 = beta2 * v_W1 + (1 - beta2) * (dW1**2)\n",
    "        m_W1_corr = m_W1 / (1 - beta1**(i+1))  # Bias correction\n",
    "        v_W1_corr = v_W1 / (1 - beta2**(i+1))\n",
    "        W1 -= learning_rate * m_W1_corr / (np.sqrt(v_W1_corr) + epsilon)\n",
    "\n",
    "        m_b1 = beta1 * m_b1 + (1 - beta1) * db1\n",
    "        v_b1 = beta2 * v_b1 + (1 - beta2) * (db1**2)\n",
    "        m_b1_corr = m_b1 / (1 - beta1**(i+1))\n",
    "        v_b1_corr = v_b1 / (1 - beta2**(i+1))\n",
    "        b1 -= learning_rate * m_b1_corr / (np.sqrt(v_b1_corr) + epsilon)\n",
    "        \n",
    "        m_W2 = beta1 * m_W2 + (1 - beta1) * dW2\n",
    "        v_W2 = beta2 * v_W2 + (1 - beta2) * (dW2**2)\n",
    "        m_W2_corr = m_W2 / (1 - beta1**(i+1))\n",
    "        v_W2_corr = v_W2 / (1 - beta2**(i+1))\n",
    "        W2 -= learning_rate * m_W2_corr / (np.sqrt(v_W2_corr) + epsilon)\n",
    "\n",
    "        m_b2 = beta1 * m_b2 + (1 - beta1) * db2\n",
    "        v_b2 = beta2 * v_b2 + (1 - beta2) * (db2**2)\n",
    "        m_b2_corr = m_b2 / (1 - beta1**(i+1))\n",
    "        v_b2_corr = v_b2 / (1 - beta2**(i+1))\n",
    "        b2 -= learning_rate * m_b2_corr / (np.sqrt(v_b2_corr) + epsilon)\n",
    "\n",
    "        # Compute accuracy\n",
    "        accuracy = np.mean((A2 > 0.5) == Y)\n",
    "        accuracies.append(accuracy)\n",
    "        \n",
    "        # Early stopping: Save the parameters which give the best accuracy on the training set\n",
    "        if accuracy > best_acc:\n",
    "            best_acc = accuracy\n",
    "            best_cost = cost\n",
    "            best_params = {\"W1\": W1, \"b1\": b1, \"W2\": W2, \"b2\": b2}\n",
    "            \n",
    "        if i % 10 == 0:\n",
    "            print(f\"Iteration {i}, Cost: {cost}, Accuracy: {accuracy}\")\n",
    "    \n",
    "    return best_params, costs, accuracies, best_cost, best_acc"
   ]
  },
  {
   "cell_type": "code",
   "execution_count": 33,
   "id": "b32d6fb4",
   "metadata": {},
   "outputs": [
    {
     "name": "stdout",
     "output_type": "stream",
     "text": [
      "Iteration 0, Cost: 0.7225791031979395, Accuracy: 0.49900957899716175\n",
      "Iteration 10, Cost: 0.2744225218013099, Accuracy: 0.9024164301482183\n",
      "Iteration 20, Cost: 0.25220900026778925, Accuracy: 0.9056439214758751\n",
      "Iteration 30, Cost: 0.24220317153842424, Accuracy: 0.9072305660674866\n",
      "Iteration 40, Cost: 0.23996657120263987, Accuracy: 0.9073291154210028\n",
      "Iteration 50, Cost: 0.2386204154515725, Accuracy: 0.9077676600441501\n",
      "Iteration 60, Cost: 0.23784402886156647, Accuracy: 0.9082850441501104\n",
      "Iteration 70, Cost: 0.23745714147609048, Accuracy: 0.908452578051088\n",
      "Iteration 80, Cost: 0.23692697703511223, Accuracy: 0.9081569299905392\n",
      "Iteration 90, Cost: 0.2366982217551586, Accuracy: 0.9085461999369284\n",
      "Best accuracy: 0.9085461999369284\n"
     ]
    }
   ],
   "source": [
    "# Adjusted parameters\n",
    "n_h = 100  # number of nodes in hidden layer\n",
    "learning_rate = 0.04 # learning rate\n",
    "lambd = 0.04  # regularization parameter\n",
    "keep_prob = 0.8  # dropout keep probability\n",
    "\n",
    "# Train the model and retrieve results\n",
    "params, costs, accuracies, best_cost, best_acc = logistic_regression_nn_v2_with_adam(X_train_T, y_train_T, n_h=n_h, learning_rate=learning_rate, num_iterations=100, lambd=lambd, keep_prob=keep_prob)\n",
    "\n",
    "# Return the final accuracy\n",
    "print(f\"Best accuracy: {best_acc}\")"
   ]
  },
  {
   "cell_type": "code",
   "execution_count": 34,
   "id": "85ae4b4e",
   "metadata": {},
   "outputs": [
    {
     "name": "stdout",
     "output_type": "stream",
     "text": [
      "Accuracy on test set: 0.9084279407127089\n"
     ]
    }
   ],
   "source": [
    "# Predict on the test set\n",
    "predictions = predict(X_test_T, params)\n",
    "\n",
    "# Calculate accuracy\n",
    "accuracy_test = np.mean(predictions == y_test_T)\n",
    "\n",
    "print(f\"Accuracy on test set: {accuracy_test}\")"
   ]
  }
 ],
 "metadata": {
  "kernelspec": {
   "display_name": "Python 3 (ipykernel)",
   "language": "python",
   "name": "python3"
  },
  "language_info": {
   "codemirror_mode": {
    "name": "ipython",
    "version": 3
   },
   "file_extension": ".py",
   "mimetype": "text/x-python",
   "name": "python",
   "nbconvert_exporter": "python",
   "pygments_lexer": "ipython3",
   "version": "3.11.4"
  }
 },
 "nbformat": 4,
 "nbformat_minor": 5
}
