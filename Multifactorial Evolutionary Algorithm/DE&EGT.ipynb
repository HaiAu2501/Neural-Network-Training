{
 "cells": [
  {
   "cell_type": "code",
   "execution_count": 1,
   "id": "5121ff36",
   "metadata": {},
   "outputs": [],
   "source": [
    "import numpy as np\n",
    "import benchmark_functions as bf"
   ]
  },
  {
   "cell_type": "code",
   "execution_count": 2,
   "id": "f9bb8dda",
   "metadata": {},
   "outputs": [],
   "source": [
    "# Thuật toán Tiến hóa vi phân\n",
    "class DifferentialEvolution:\n",
    "    def __init__(\n",
    "        self, \n",
    "        objective_function, \n",
    "        dimensions, \n",
    "        bounds, \n",
    "        population_size, \n",
    "        mutation_factor, \n",
    "        crossover_probability, \n",
    "        generations,\n",
    "        counter = None\n",
    "    ):\n",
    "        \n",
    "        self.objective_function = objective_function\n",
    "        self.dimensions = dimensions\n",
    "        self.bounds = bounds\n",
    "        self.population_size = population_size\n",
    "        self.mutation_factor = mutation_factor\n",
    "        self.crossover_probability = crossover_probability\n",
    "        self.generations = generations\n",
    "        self.counter = counter\n",
    "        \n",
    "        self.best_solution = None\n",
    "        self.best_value = float('inf')\n",
    "        self.history = []  # Lưu giá trị tốt nhất của mỗi thế hệ\n",
    "        self.population = None\n",
    "\n",
    "    # Khởi tạo quần thể\n",
    "    def initialize_population(self):\n",
    "        return np.random.uniform(self.bounds[0], self.bounds[1], (self.population_size, self.dimensions))\n",
    "\n",
    "    # Hàm đột biến\n",
    "    def mutate(self, population, idx):\n",
    "        indices = [i for i in range(self.population_size) if i != idx]\n",
    "        a, b, c = np.random.choice(indices, 3, replace=False)\n",
    "        mutant_vector = np.clip(population[a] + self.mutation_factor * (population[b] - population[c]), self.bounds[0], self.bounds[1])\n",
    "        return mutant_vector\n",
    "\n",
    "    # Hàm lai ghép\n",
    "    def crossover(self, target_vector, mutant_vector):\n",
    "        crossover_mask = np.random.rand(self.dimensions) < self.crossover_probability\n",
    "        trial_vector = np.where(crossover_mask, mutant_vector, target_vector)\n",
    "        return trial_vector\n",
    "    \n",
    "    # Hàm chọn lọc\n",
    "    def select(self, population, trial_vector, idx):\n",
    "        if self.objective_function.evaluate(trial_vector) < self.objective_function.evaluate(population[idx]):\n",
    "            population[idx] = trial_vector\n",
    "            value = self.objective_function.evaluate(population[idx])\n",
    "            if value < self.best_value:\n",
    "                self.best_value = value\n",
    "                self.best_solution = population[idx]\n",
    "\n",
    "    # Hàm thực thi\n",
    "    def run(self):\n",
    "        self.population = self.initialize_population()\n",
    "        no_improvement_counter = 0\n",
    "        \n",
    "        for generation in range(self.generations):\n",
    "            for idx in range(self.population_size):\n",
    "                mutant_vector = self.mutate(self.population, idx)\n",
    "                trial_vector = self.crossover(self.population[idx], mutant_vector)\n",
    "                self.select(self.population, trial_vector, idx)\n",
    "            self.history.append(self.best_value)\n",
    "            \n",
    "            if generation > 0 and generation % 1000 == 0:\n",
    "                print(f'Best value in generation {generation}: {self.best_value}')\n",
    "            \n",
    "            # Kiểm tra xem có cải thiện hay không\n",
    "            if len(self.history) > 1 and self.history[-1] < self.history[-2]:\n",
    "                no_improvement_counter = 0 # Đặt lại bộ đếm nếu có cải thiện\n",
    "            else:\n",
    "                no_improvement_counter += 1 # Tăng bộ đếm nếu không có cải thiện\n",
    "\n",
    "            if self.counter is not None and no_improvement_counter >= self.counter:\n",
    "                break  \n",
    "            \n",
    "        return self.best_solution, self.best_value"
   ]
  },
  {
   "cell_type": "code",
   "execution_count": 3,
   "id": "8355e4b8",
   "metadata": {},
   "outputs": [
    {
     "name": "stdout",
     "output_type": "stream",
     "text": [
      "Best value in generation 1000: 8.302382059544566\n",
      "Best value in generation 2000: 0.0998329923152691\n",
      "Best value in generation 3000: 9.599193278579073e-10\n",
      "Best value in generation 4000: 1.0201848164812538e-18\n",
      "Best value in generation 5000: 1.2303764931118969e-28\n"
     ]
    }
   ],
   "source": [
    "# Tạo một thực thể của giải thuật DE với các tham số cụ thể\n",
    "de = DifferentialEvolution(\n",
    "    objective_function = bf.RosenbrocksFunction(20),  # Chọn một hàm từ danh sách hàm đã tạo trước đó\n",
    "    dimensions = 20, # Số chiều\n",
    "    bounds = (-10, 10),  # Giới hạn của không gian tìm kiếm\n",
    "    population_size = 40,  # Kích thước quần thể\n",
    "    mutation_factor = 0.6,  # Hệ số đột biến\n",
    "    crossover_probability = 0.9,  # Xác suất lai ghép\n",
    "    generations = 6000,  # Số thế hệ\n",
    "    counter = 100 # Bộ đếm số thế hệ không cải thiện \n",
    ")\n",
    "\n",
    "# Chạy giải thuật\n",
    "best_solution, best_value = de.run()"
   ]
  },
  {
   "cell_type": "code",
   "execution_count": 4,
   "id": "e821f18d",
   "metadata": {},
   "outputs": [
    {
     "data": {
      "image/png": "[encoded data removed]",
      "text/plain": [
       "<Figure size 1000x500 with 1 Axes>"
      ]
     },
     "metadata": {},
     "output_type": "display_data"
    }
   ],
   "source": [
    "import matplotlib.pyplot as plt\n",
    "\n",
    "plt.figure(figsize=(10, 5))\n",
    "plt.plot(de.history[4000:5000])\n",
    "plt.show()"
   ]
  },
  {
   "cell_type": "code",
   "execution_count": 5,
   "id": "697bfba1",
   "metadata": {},
   "outputs": [],
   "source": [
    "class JADE:\n",
    "    def __init__(\n",
    "        self, \n",
    "        objective_function, \n",
    "        dimension, \n",
    "        bounds,\n",
    "        population_size, \n",
    "        max_generations, \n",
    "        f_min = 0.1, \n",
    "        f_max = 1, \n",
    "        cr_min = 0, \n",
    "        cr_max = 1, \n",
    "        p = 0.1\n",
    "    ):\n",
    "        self.objective_function = objective_function\n",
    "        self.dimension = dimension\n",
    "        self.bounds = bounds\n",
    "        self.population_size = population_size\n",
    "        self.max_generations = max_generations\n",
    "        self.f_min = f_min\n",
    "        self.f_max = f_max\n",
    "        self.cr_min = cr_min\n",
    "        self.cr_max = cr_max\n",
    "        self.p = p\n",
    "\n",
    "        self.population = self.initialize_population()\n",
    "        self.fitness = [self.objective_function.evaluate(x) for x in self.population]\n",
    "        self.mu_cr = 0.5\n",
    "        self.mu_f = 0.5\n",
    "        self.archive = []\n",
    "\n",
    "    def initialize_population(self):\n",
    "        return np.random.uniform(self.bounds[0], self.bounds[1], (self.population_size, self.dimension))\n",
    "\n",
    "    def mutate(self, target_idx):\n",
    "        p_best_size = max(int(self.population_size * self.p), 2)\n",
    "        p_best = self.population[np.argsort(self.fitness)[:p_best_size]]\n",
    "        x_p_best = p_best[np.random.randint(len(p_best))]\n",
    "\n",
    "        candidates = np.arange(self.population_size)\n",
    "        candidates = np.delete(candidates, target_idx)\n",
    "        x_r1 = self.population[np.random.choice(candidates)]\n",
    "\n",
    "        if len(self.archive) > 0:\n",
    "            x_r2 = self.archive[np.random.randint(len(self.archive))]\n",
    "        else:\n",
    "            x_r2 = self.population[np.random.choice(candidates)]\n",
    "\n",
    "        f = np.clip(np.random.normal(self.mu_f, 0.1), self.f_min, self.f_max)\n",
    "        return x_p_best + f * (x_r1 - x_r2), f\n",
    "\n",
    "    def crossover(self, target, mutant, cr):\n",
    "        j_rand = np.random.randint(self.dimension)\n",
    "        cross_points = np.random.rand(self.dimension) < cr\n",
    "        cross_points[j_rand] = True  # Ensure at least one dimension is from the mutant\n",
    "        return np.where(cross_points, mutant, target)\n",
    "\n",
    "    def evolve(self):\n",
    "        best_fitness_history = []\n",
    "        successful_f = []\n",
    "        successful_cr = []\n",
    "\n",
    "        for _ in range(self.max_generations):\n",
    "            for i in range(self.population_size):\n",
    "                cr = np.clip(np.random.normal(self.mu_cr, 0.1), self.cr_min, self.cr_max)\n",
    "                mutant, f = self.mutate(i)\n",
    "                trial = self.crossover(self.population[i], mutant, cr)\n",
    "                trial_fitness = self.objective_function.evaluate(trial)\n",
    "\n",
    "                if trial_fitness < self.fitness[i]:\n",
    "                    self.archive.append(self.population[i])\n",
    "                    self.population[i] = trial\n",
    "                    self.fitness[i] = trial_fitness\n",
    "                    successful_f.append(f)\n",
    "                    successful_cr.append(cr)\n",
    "\n",
    "            if successful_f and successful_cr:\n",
    "                self.mu_f = (1 - 0.1) * self.mu_f + 0.1 * np.mean(np.square(successful_f)) / np.mean(successful_f)\n",
    "                self.mu_cr = (1 - 0.1) * self.mu_cr + 0.1 * np.mean(successful_cr)\n",
    "\n",
    "            best_idx = np.argmin(self.fitness)\n",
    "            best_fitness_history.append(self.fitness[best_idx])\n",
    "\n",
    "            # Giới hạn lưu trữ\n",
    "            if len(self.archive) > self.population_size:\n",
    "                random_indices = np.random.choice(len(self.archive), self.population_size, replace=False)\n",
    "                self.archive = [self.archive[i] for i in random_indices]\n",
    "                \n",
    "        best_index = np.argmin(self.fitness)\n",
    "        best_solution = self.population[best_index]\n",
    "        best_fitness = self.fitness[best_index]\n",
    "        return best_solution, best_fitness, best_fitness_history\n"
   ]
  },
  {
   "cell_type": "code",
   "execution_count": 6,
   "id": "2e8c68c7",
   "metadata": {},
   "outputs": [],
   "source": [
    "jade = JADE(\n",
    "    objective_function = bf.RosenbrocksFunction(20),\n",
    "    dimension = 20, \n",
    "    bounds = (-10, 10),\n",
    "    population_size = 40, \n",
    "    max_generations = 5000,\n",
    "    f_min = 0.1, \n",
    "    f_max = 0.9, \n",
    "    cr_min = 0, \n",
    "    cr_max = 1, \n",
    "    p = 0.2\n",
    ")\n",
    "\n",
    "best_solution, best_fitness, best_fitness_history = jade.evolve()"
   ]
  },
  {
   "cell_type": "code",
   "execution_count": 7,
   "id": "c0556f2a",
   "metadata": {},
   "outputs": [
    {
     "data": {
      "text/plain": [
       "0.08320423249741808"
      ]
     },
     "execution_count": 7,
     "metadata": {},
     "output_type": "execute_result"
    }
   ],
   "source": [
    "best_fitness"
   ]
  },
  {
   "cell_type": "code",
   "execution_count": 8,
   "id": "41d2726f",
   "metadata": {},
   "outputs": [
    {
     "data": {
      "image/png": "[encoded data removed]",
      "text/plain": [
       "<Figure size 1000x500 with 1 Axes>"
      ]
     },
     "metadata": {},
     "output_type": "display_data"
    }
   ],
   "source": [
    "plt.figure(figsize=(10, 5))\n",
    "plt.plot(best_fitness_history[4000:5000])\n",
    "plt.show()"
   ]
  },
  {
   "cell_type": "code",
   "execution_count": 9,
   "id": "fe90d947",
   "metadata": {},
   "outputs": [],
   "source": [
    "import torch\n",
    "import torch.nn as nn\n",
    "import torch.optim as optim"
   ]
  },
  {
   "cell_type": "code",
   "execution_count": 10,
   "id": "19ff8a5b",
   "metadata": {},
   "outputs": [],
   "source": [
    "class DenoisingAutoencoder(nn.Module):\n",
    "    def __init__(self, dimensions):\n",
    "        super(DenoisingAutoencoder, self).__init__()\n",
    "        # Định nghĩa lớp mã hóa và giải mã\n",
    "        \n",
    "        # Lớp mã hóa\n",
    "        self.encoder = nn.Sequential(\n",
    "            nn.Linear(dimensions, dimensions//2), # Giảm chiều\n",
    "            nn.ReLU(True),\n",
    "            nn.Linear(dimensions//2, dimensions//4),\n",
    "            nn.ReLU(True)\n",
    "        )\n",
    "        \n",
    "        # Lớp giải mã\n",
    "        self.decoder = nn.Sequential(\n",
    "            nn.Linear(dimensions//4, dimensions//2),\n",
    "            nn.ReLU(True),\n",
    "            nn.Linear(dimensions//2, dimensions),\n",
    "            nn.ReLU()\n",
    "        )\n",
    "\n",
    "    def forward(self, x):\n",
    "        # Thêm nhiễu Gaussian\n",
    "        x_noisy = x + torch.randn_like(x) * 0.1\n",
    "        x_noisy = torch.clamp(x_noisy, -10, 10)  # Đảm bảo rằng dữ liệu vẫn nằm trong khoảng hợp lệ\n",
    "        encoded = self.encoder(x_noisy)\n",
    "        decoded = self.decoder(encoded)\n",
    "        return decoded"
   ]
  },
  {
   "cell_type": "code",
   "execution_count": 11,
   "id": "c9257d96",
   "metadata": {},
   "outputs": [
    {
     "data": {
      "text/plain": [
       "DenoisingAutoencoder(\n",
       "  (encoder): Sequential(\n",
       "    (0): Linear(in_features=20, out_features=10, bias=True)\n",
       "    (1): ReLU(inplace=True)\n",
       "    (2): Linear(in_features=10, out_features=5, bias=True)\n",
       "    (3): ReLU(inplace=True)\n",
       "  )\n",
       "  (decoder): Sequential(\n",
       "    (0): Linear(in_features=5, out_features=10, bias=True)\n",
       "    (1): ReLU(inplace=True)\n",
       "    (2): Linear(in_features=10, out_features=20, bias=True)\n",
       "    (3): ReLU()\n",
       "  )\n",
       ")"
      ]
     },
     "execution_count": 11,
     "metadata": {},
     "output_type": "execute_result"
    }
   ],
   "source": [
    "model = DenoisingAutoencoder(20)\n",
    "model.eval()"
   ]
  },
  {
   "cell_type": "code",
   "execution_count": 12,
   "id": "2e91a512",
   "metadata": {},
   "outputs": [],
   "source": [
    "class ExplicitGeneticTransfer:\n",
    "    def __init__(\n",
    "        self, \n",
    "        objective_function1, \n",
    "        objective_function2, \n",
    "        dimensions, \n",
    "        bounds, \n",
    "        population_size, \n",
    "        mutation_factor, \n",
    "        crossover_probability, \n",
    "        generations,\n",
    "        transfer_generations\n",
    "    ):\n",
    "        self.de1 = DifferentialEvolution(\n",
    "            objective_function1, \n",
    "            dimensions, \n",
    "            bounds = bounds[0], \n",
    "            population_size = population_size[0], \n",
    "            mutation_factor = mutation_factor[0], \n",
    "            crossover_probability = crossover_probability[0], \n",
    "            generations = generations\n",
    "        )\n",
    "        self.de2 = DifferentialEvolution(\n",
    "            objective_function2, \n",
    "            dimensions, \n",
    "            bounds = bounds[1], \n",
    "            population_size = population_size[1], \n",
    "            mutation_factor = mutation_factor[1], \n",
    "            crossover_probability = crossover_probability[1], \n",
    "            generations = generations\n",
    "        )\n",
    "        \n",
    "        self.dae = DenoisingAutoencoder(dimensions)\n",
    "        self.optimizer = optim.Adam(self.dae.parameters(), lr=0.001)\n",
    "        self.criterion = nn.CrossEntropyLoss()\n",
    "        \n",
    "        self.history1 = []\n",
    "        self.history2 = []\n",
    "        self.transfer_generations = transfer_generations\n",
    "\n",
    "    def train_dae(self, data_in, data_out, epochs=5000):\n",
    "        for epoch in range(epochs):\n",
    "            self.optimizer.zero_grad()\n",
    "            reconstructions = self.dae(data_in)\n",
    "            loss = self.criterion(reconstructions, data_out)\n",
    "            loss.backward()\n",
    "            self.optimizer.step()\n",
    "\n",
    "    def transfer_solutions(self, population1, population2):\n",
    "        population_size = len(population2)\n",
    "        \n",
    "        # Lấy 10 lời giải tốt nhất từ quần thể 1\n",
    "        transfer_indices = np.argsort([self.de1.objective_function.evaluate(x) for x in population1])[:10]\n",
    "        transferred_solutions = population1[transfer_indices]\n",
    "\n",
    "        # Chuyển đổi thành tensor PyTorch\n",
    "        transferred_solutions_tensor = torch.tensor(transferred_solutions, dtype=torch.float32)\n",
    "    \n",
    "        # Bổ sung vào quần thể 2 thông qua mô hình DAE\n",
    "        dae_output = self.dae(transferred_solutions_tensor).detach().numpy()\n",
    "        population2 = np.vstack((population2, dae_output))\n",
    "\n",
    "        # Sắp xếp lại quần thể 2 và giữ lại số lượng cá thể là population_size\n",
    "        fitness_values = np.array([self.de2.objective_function.evaluate(x) for x in population2])\n",
    "        sorted_indices = np.argsort(fitness_values)\n",
    "        population2 = population2[sorted_indices[:population_size]]\n",
    "\n",
    "    def evolve(self):\n",
    "        # Chạy DE cho từng hàm\n",
    "        self.de1.run()\n",
    "        self.de2.run()\n",
    "\n",
    "        # Lấy mẫu và huấn luyện DAE sau khi chạy DE 1000 thế hệ\n",
    "        sample_size = 30\n",
    "        selected_indices1 = np.random.choice(len(self.de1.population), sample_size, replace=False)\n",
    "        selected_indices2 = np.random.choice(len(self.de2.population), sample_size, replace=False)\n",
    "        data_in1 = torch.tensor(self.de1.population[selected_indices1], dtype=torch.float32)\n",
    "        data_out2 = torch.tensor(self.de2.population[selected_indices2], dtype=torch.float32)\n",
    "\n",
    "        # Huấn luyện DAE\n",
    "        self.train_dae(data_in1, data_out2)\n",
    "\n",
    "        # Tiếp tục chạy DE và thực hiện MFEA step\n",
    "        for generation in range(self.transfer_generations):\n",
    "            if generation % 100 == 0 and generation > 0:\n",
    "                self.transfer_solutions(self.de1.population, self.de2.population)\n",
    "                \n",
    "            for idx in range(self.de1.population_size):\n",
    "                # Chạy DE cho bài toán 1\n",
    "                mutant_vector1 = self.de1.mutate(self.de1.population, idx)\n",
    "                trial_vector1 = self.de1.crossover(self.de1.population[idx], mutant_vector1)\n",
    "                self.de1.select(self.de1.population, trial_vector1, idx)\n",
    "                \n",
    "                # Chạy DE cho bài toán 2\n",
    "                mutant_vector2 = self.de2.mutate(self.de2.population, idx)\n",
    "                trial_vector2 = self.de2.crossover(self.de2.population[idx], mutant_vector2)\n",
    "                self.de2.select(self.de2.population, trial_vector2, idx)\n",
    "                \n",
    "            self.history1.append(self.de1.best_value)\n",
    "            self.history2.append(self.de2.best_value)\n",
    "            \n",
    "        return self.history1, self.history2"
   ]
  },
  {
   "cell_type": "code",
   "execution_count": 13,
   "id": "f3d6fe54",
   "metadata": {},
   "outputs": [
    {
     "name": "stdout",
     "output_type": "stream",
     "text": [
      "Best value in generation 1000: 0.0002956287493807664\n",
      "Best value in generation 2000: 1.2887826246599698e-09\n",
      "Best value in generation 3000: 4.232122431620781e-18\n",
      "Best value in generation 4000: 1.633968088770012e-26\n",
      "Best value in generation 1000: 0.2854079957279627\n",
      "Best value in generation 2000: 0.2854079957279627\n",
      "Best value in generation 3000: 0.2854079957279627\n",
      "Best value in generation 4000: 0.2854079957279627\n"
     ]
    }
   ],
   "source": [
    "egt_algorithm = ExplicitGeneticTransfer(\n",
    "    objective_function1 = bf.SchaffersF7Function(20), \n",
    "    objective_function2 = bf.HappyCatFunction(20), \n",
    "    dimensions = 20, \n",
    "    bounds = [(-30, 30), (-20, 20)], \n",
    "    population_size = (40, 50), \n",
    "    mutation_factor = (0.6, 0.7), \n",
    "    crossover_probability = (0.9, 0.9), \n",
    "    generations = 5000,\n",
    "    transfer_generations = 5000\n",
    ")\n",
    "\n",
    "egt_algorithm.evolve()\n",
    "best_solution1, best_value1 = egt_algorithm.de1.best_solution, egt_algorithm.de1.best_value\n",
    "best_solution2, best_value2 = egt_algorithm.de2.best_solution, egt_algorithm.de2.best_value"
   ]
  },
  {
   "cell_type": "code",
   "execution_count": 14,
   "id": "c53c899b",
   "metadata": {},
   "outputs": [
    {
     "data": {
      "text/plain": [
       "5.547999495692583e-73"
      ]
     },
     "execution_count": 14,
     "metadata": {},
     "output_type": "execute_result"
    }
   ],
   "source": [
    "best_value1"
   ]
  },
  {
   "cell_type": "code",
   "execution_count": 15,
   "id": "9050877a",
   "metadata": {},
   "outputs": [
    {
     "data": {
      "text/plain": [
       "0.28060134832409017"
      ]
     },
     "execution_count": 15,
     "metadata": {},
     "output_type": "execute_result"
    }
   ],
   "source": [
    "best_value2"
   ]
  },
  {
   "cell_type": "code",
   "execution_count": 16,
   "id": "381fa602",
   "metadata": {},
   "outputs": [
    {
     "data": {
      "image/png": "[encoded data removed]",
      "text/plain": [
       "<Figure size 1000x600 with 1 Axes>"
      ]
     },
     "metadata": {},
     "output_type": "display_data"
    }
   ],
   "source": [
    "func1_values = egt_algorithm.de1.history + egt_algorithm.history1\n",
    "func2_values = egt_algorithm.de2.history + egt_algorithm.history2\n",
    "\n",
    "# Vẽ đồ thị\n",
    "plt.figure(figsize=(10, 6))\n",
    "plt.plot(func1_values[1000:2000], label='Funtion 1')\n",
    "plt.plot(func2_values[1000:2000], label='Function 2')\n",
    "plt.title('IGT Performance Over Generations')\n",
    "plt.xlabel('Generation')\n",
    "plt.ylabel('Best Objective Value')\n",
    "plt.legend()\n",
    "plt.show()"
   ]
  }
 ],
 "metadata": {
  "kernelspec": {
   "display_name": "1",
   "language": "python",
   "name": "1"
  },
  "language_info": {
   "codemirror_mode": {
    "name": "ipython",
    "version": 3
   },
   "file_extension": ".py",
   "mimetype": "text/x-python",
   "name": "python",
   "nbconvert_exporter": "python",
   "pygments_lexer": "ipython3",
   "version": "3.11.1"
  }
 },
 "nbformat": 4,
 "nbformat_minor": 5
}
